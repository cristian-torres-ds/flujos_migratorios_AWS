{
 "cells": [
  {
   "cell_type": "code",
   "execution_count": 253,
   "metadata": {},
   "outputs": [],
   "source": [
    "import pymysql\n",
    "import pandas as pd\n",
    "import numpy as np"
   ]
  },
  {
   "cell_type": "code",
   "execution_count": 254,
   "metadata": {},
   "outputs": [],
   "source": [
    "df = pd.read_csv('tabla_de_hechosP.csv')"
   ]
  },
  {
   "cell_type": "code",
   "execution_count": 255,
   "metadata": {},
   "outputs": [],
   "source": [
    "df.rename(columns={'Remittance inflows (US$ million)': 'Remittance'}, inplace=True)"
   ]
  },
  {
   "cell_type": "code",
   "execution_count": 256,
   "metadata": {},
   "outputs": [],
   "source": [
    "df.rename(columns={'GDP (current US$': 'GDP'}, inplace=True)"
   ]
  },
  {
   "cell_type": "code",
   "execution_count": 257,
   "metadata": {},
   "outputs": [],
   "source": [
    "df.rename(columns={'Inflation, consumer prices (annual %)': 'Inflation'}, inplace=True)"
   ]
  },
  {
   "cell_type": "code",
   "execution_count": 258,
   "metadata": {},
   "outputs": [],
   "source": [
    "df.rename(columns={'Net migration': 'Net_migration'}, inplace=True)"
   ]
  },
  {
   "cell_type": "code",
   "execution_count": 259,
   "metadata": {},
   "outputs": [],
   "source": [
    "df.rename(columns={'aux': 'Id'}, inplace=True)"
   ]
  },
  {
   "cell_type": "code",
   "execution_count": 260,
   "metadata": {},
   "outputs": [
    {
     "data": {
      "text/html": [
       "<div>\n",
       "<style scoped>\n",
       "    .dataframe tbody tr th:only-of-type {\n",
       "        vertical-align: middle;\n",
       "    }\n",
       "\n",
       "    .dataframe tbody tr th {\n",
       "        vertical-align: top;\n",
       "    }\n",
       "\n",
       "    .dataframe thead th {\n",
       "        text-align: right;\n",
       "    }\n",
       "</style>\n",
       "<table border=\"1\" class=\"dataframe\">\n",
       "  <thead>\n",
       "    <tr style=\"text-align: right;\">\n",
       "      <th></th>\n",
       "      <th>anio</th>\n",
       "      <th>pais</th>\n",
       "      <th>Remittance</th>\n",
       "      <th>Id</th>\n",
       "      <th>GDP</th>\n",
       "      <th>Inflation</th>\n",
       "      <th>Net_migration</th>\n",
       "    </tr>\n",
       "  </thead>\n",
       "  <tbody>\n",
       "    <tr>\n",
       "      <th>0</th>\n",
       "      <td>2012</td>\n",
       "      <td>India</td>\n",
       "      <td>68820.517838</td>\n",
       "      <td>2012India</td>\n",
       "      <td>1.827638e+12</td>\n",
       "      <td>9.478997</td>\n",
       "      <td>-180991.0</td>\n",
       "    </tr>\n",
       "    <tr>\n",
       "      <th>1</th>\n",
       "      <td>2013</td>\n",
       "      <td>India</td>\n",
       "      <td>69970.360847</td>\n",
       "      <td>2013India</td>\n",
       "      <td>1.856721e+12</td>\n",
       "      <td>10.017878</td>\n",
       "      <td>-236387.0</td>\n",
       "    </tr>\n",
       "    <tr>\n",
       "      <th>2</th>\n",
       "      <td>2014</td>\n",
       "      <td>India</td>\n",
       "      <td>70388.642797</td>\n",
       "      <td>2014India</td>\n",
       "      <td>2.039126e+12</td>\n",
       "      <td>6.665657</td>\n",
       "      <td>-310694.0</td>\n",
       "    </tr>\n",
       "    <tr>\n",
       "      <th>3</th>\n",
       "      <td>2015</td>\n",
       "      <td>India</td>\n",
       "      <td>68909.693353</td>\n",
       "      <td>2015India</td>\n",
       "      <td>2.103588e+12</td>\n",
       "      <td>4.906973</td>\n",
       "      <td>-475094.0</td>\n",
       "    </tr>\n",
       "    <tr>\n",
       "      <th>4</th>\n",
       "      <td>2016</td>\n",
       "      <td>India</td>\n",
       "      <td>62744.364090</td>\n",
       "      <td>2016India</td>\n",
       "      <td>2.294797e+12</td>\n",
       "      <td>4.948216</td>\n",
       "      <td>68119.0</td>\n",
       "    </tr>\n",
       "  </tbody>\n",
       "</table>\n",
       "</div>"
      ],
      "text/plain": [
       "   anio   pais    Remittance         Id           GDP  Inflation   \n",
       "0  2012  India  68820.517838  2012India  1.827638e+12   9.478997  \\\n",
       "1  2013  India  69970.360847  2013India  1.856721e+12  10.017878   \n",
       "2  2014  India  70388.642797  2014India  2.039126e+12   6.665657   \n",
       "3  2015  India  68909.693353  2015India  2.103588e+12   4.906973   \n",
       "4  2016  India  62744.364090  2016India  2.294797e+12   4.948216   \n",
       "\n",
       "   Net_migration  \n",
       "0      -180991.0  \n",
       "1      -236387.0  \n",
       "2      -310694.0  \n",
       "3      -475094.0  \n",
       "4        68119.0  "
      ]
     },
     "execution_count": 260,
     "metadata": {},
     "output_type": "execute_result"
    }
   ],
   "source": [
    "df.head()"
   ]
  },
  {
   "cell_type": "code",
   "execution_count": 261,
   "metadata": {},
   "outputs": [],
   "source": [
    "df['pais'] = df['pais'].astype(str)"
   ]
  },
  {
   "cell_type": "code",
   "execution_count": 262,
   "metadata": {},
   "outputs": [],
   "source": [
    "df['Id'] = df['Id'].astype(str)"
   ]
  },
  {
   "cell_type": "code",
   "execution_count": 263,
   "metadata": {},
   "outputs": [
    {
     "name": "stdout",
     "output_type": "stream",
     "text": [
      "<class 'pandas.core.frame.DataFrame'>\n",
      "RangeIndex: 45 entries, 0 to 44\n",
      "Data columns (total 7 columns):\n",
      " #   Column         Non-Null Count  Dtype  \n",
      "---  ------         --------------  -----  \n",
      " 0   anio           45 non-null     int64  \n",
      " 1   pais           45 non-null     object \n",
      " 2   Remittance     45 non-null     float64\n",
      " 3   Id             45 non-null     object \n",
      " 4   GDP            45 non-null     float64\n",
      " 5   Inflation      45 non-null     float64\n",
      " 6   Net_migration  45 non-null     float64\n",
      "dtypes: float64(4), int64(1), object(2)\n",
      "memory usage: 2.6+ KB\n"
     ]
    }
   ],
   "source": [
    "df.info()"
   ]
  },
  {
   "cell_type": "code",
   "execution_count": 264,
   "metadata": {},
   "outputs": [],
   "source": [
    "#Establezco conexion\n",
    "conexion = pymysql.connect(\n",
    "    host = \"database-migraciones.c5vthlbc6wtm.us-east-1.rds.amazonaws.com\",\n",
    "    user= \"***********\",\n",
    "    passwd = \"***********\",\n",
    "    db = \"migraciones\"\n",
    "\n",
    ")"
   ]
  },
  {
   "cell_type": "code",
   "execution_count": 265,
   "metadata": {},
   "outputs": [],
   "source": [
    "cursor = conexion.cursor()"
   ]
  },
  {
   "cell_type": "code",
   "execution_count": 266,
   "metadata": {},
   "outputs": [
    {
     "data": {
      "text/plain": [
       "0"
      ]
     },
     "execution_count": 266,
     "metadata": {},
     "output_type": "execute_result"
    }
   ],
   "source": [
    "cursor.execute(\"\"\"DROP TABLE IF EXISTS macroeconomico\"\"\")\n",
    "cursor.execute(\"\"\"DROP TABLE IF EXISTS anio\"\"\")\n",
    "cursor.execute(\"\"\"DROP TABLE IF EXISTS pais\"\"\")"
   ]
  },
  {
   "cell_type": "code",
   "execution_count": 267,
   "metadata": {},
   "outputs": [
    {
     "data": {
      "text/plain": [
       "0"
      ]
     },
     "execution_count": 267,
     "metadata": {},
     "output_type": "execute_result"
    }
   ],
   "source": [
    "cursor.execute(\"\"\"CREATE TABLE macroeconomico (\n",
    "    Id VARCHAR(45) PRIMARY KEY,\n",
    "    anio INT,\n",
    "    pais VARCHAR(45),\n",
    "    remittance FLOAT,\n",
    "    GDP FLOAT,\n",
    "    Inflation FLOAT,\n",
    "    Net_migration FLOAT\n",
    ")\"\"\")"
   ]
  },
  {
   "cell_type": "code",
   "execution_count": 268,
   "metadata": {},
   "outputs": [
    {
     "data": {
      "text/plain": [
       "0"
      ]
     },
     "execution_count": 268,
     "metadata": {},
     "output_type": "execute_result"
    }
   ],
   "source": [
    "cursor.execute(\"\"\"CREATE TABLE anio (\n",
    "    id_anio INT AUTO_INCREMENT PRIMARY KEY,\n",
    "    anio INT\n",
    ")\"\"\")"
   ]
  },
  {
   "cell_type": "code",
   "execution_count": 269,
   "metadata": {},
   "outputs": [
    {
     "data": {
      "text/plain": [
       "0"
      ]
     },
     "execution_count": 269,
     "metadata": {},
     "output_type": "execute_result"
    }
   ],
   "source": [
    "cursor.execute(\"\"\"CREATE TABLE pais (\n",
    "    id_pais INT AUTO_INCREMENT PRIMARY KEY,\n",
    "    pais VARCHAR(45)\n",
    ")\"\"\")"
   ]
  },
  {
   "cell_type": "code",
   "execution_count": 270,
   "metadata": {},
   "outputs": [],
   "source": [
    "df_lista = []\n",
    "for i in range (0,45):\n",
    "    df_lista.append((df.anio[i], df.pais[i],df.Remittance[i], df.Id[i],df.GDP[i],df.Inflation[i],df.Net_migration[i])) "
   ]
  },
  {
   "cell_type": "code",
   "execution_count": 271,
   "metadata": {},
   "outputs": [
    {
     "data": {
      "text/plain": [
       "45"
      ]
     },
     "execution_count": 271,
     "metadata": {},
     "output_type": "execute_result"
    }
   ],
   "source": [
    "cursor.executemany(\"\"\"insert into macroeconomico (anio, pais, remittance, Id,GDP, Inflation, Net_migration)\n",
    "                    values (%s, %s, %s, %s, %s, %s, %s)\"\"\", df_lista\n",
    ")"
   ]
  },
  {
   "cell_type": "code",
   "execution_count": 272,
   "metadata": {},
   "outputs": [],
   "source": [
    "conexion.commit()"
   ]
  },
  {
   "cell_type": "code",
   "execution_count": 273,
   "metadata": {},
   "outputs": [
    {
     "data": {
      "text/plain": [
       "9"
      ]
     },
     "execution_count": 273,
     "metadata": {},
     "output_type": "execute_result"
    }
   ],
   "source": [
    "cursor.execute(\"\"\"INSERT INTO anio(anio) SELECT DISTINCT anio FROM macroeconomico\"\"\")"
   ]
  },
  {
   "cell_type": "code",
   "execution_count": 274,
   "metadata": {},
   "outputs": [],
   "source": [
    "conexion.commit()"
   ]
  },
  {
   "cell_type": "code",
   "execution_count": 275,
   "metadata": {},
   "outputs": [
    {
     "data": {
      "text/plain": [
       "5"
      ]
     },
     "execution_count": 275,
     "metadata": {},
     "output_type": "execute_result"
    }
   ],
   "source": [
    "cursor.execute(\"\"\"INSERT INTO pais(pais) SELECT DISTINCT pais FROM macroeconomico\"\"\")"
   ]
  },
  {
   "cell_type": "code",
   "execution_count": 276,
   "metadata": {},
   "outputs": [],
   "source": [
    "conexion.commit()"
   ]
  },
  {
   "cell_type": "code",
   "execution_count": 277,
   "metadata": {},
   "outputs": [
    {
     "data": {
      "text/plain": [
       "0"
      ]
     },
     "execution_count": 277,
     "metadata": {},
     "output_type": "execute_result"
    }
   ],
   "source": [
    "cursor.execute(\"\"\"ALTER TABLE macroeconomico\n",
    "                ADD id_anio INT\"\"\")"
   ]
  },
  {
   "cell_type": "code",
   "execution_count": 278,
   "metadata": {},
   "outputs": [
    {
     "data": {
      "text/plain": [
       "45"
      ]
     },
     "execution_count": 278,
     "metadata": {},
     "output_type": "execute_result"
    }
   ],
   "source": [
    "cursor.execute(\"\"\"UPDATE macroeconomico\n",
    "                SET id_anio = 0\"\"\")"
   ]
  },
  {
   "cell_type": "code",
   "execution_count": 279,
   "metadata": {},
   "outputs": [
    {
     "data": {
      "text/plain": [
       "45"
      ]
     },
     "execution_count": 279,
     "metadata": {},
     "output_type": "execute_result"
    }
   ],
   "source": [
    "cursor.execute(\"\"\"UPDATE macroeconomico\n",
    "                JOIN anio ON (macroeconomico.anio = anio.anio)\n",
    "                SET macroeconomico.id_anio = anio.id_anio\"\"\")"
   ]
  },
  {
   "cell_type": "code",
   "execution_count": 280,
   "metadata": {},
   "outputs": [
    {
     "data": {
      "text/plain": [
       "0"
      ]
     },
     "execution_count": 280,
     "metadata": {},
     "output_type": "execute_result"
    }
   ],
   "source": [
    "cursor.execute(\"\"\"ALTER TABLE macroeconomico\n",
    "                DROP COLUMN anio\"\"\")"
   ]
  },
  {
   "cell_type": "code",
   "execution_count": 281,
   "metadata": {},
   "outputs": [
    {
     "data": {
      "text/plain": [
       "0"
      ]
     },
     "execution_count": 281,
     "metadata": {},
     "output_type": "execute_result"
    }
   ],
   "source": [
    "cursor.execute(\"\"\"ALTER TABLE macroeconomico\n",
    "                ADD id_pais INT\"\"\")"
   ]
  },
  {
   "cell_type": "code",
   "execution_count": 282,
   "metadata": {},
   "outputs": [
    {
     "data": {
      "text/plain": [
       "45"
      ]
     },
     "execution_count": 282,
     "metadata": {},
     "output_type": "execute_result"
    }
   ],
   "source": [
    "cursor.execute(\"\"\"UPDATE macroeconomico\n",
    "                SET id_pais = 0\"\"\")"
   ]
  },
  {
   "cell_type": "code",
   "execution_count": 283,
   "metadata": {},
   "outputs": [
    {
     "data": {
      "text/plain": [
       "45"
      ]
     },
     "execution_count": 283,
     "metadata": {},
     "output_type": "execute_result"
    }
   ],
   "source": [
    "cursor.execute(\"\"\"UPDATE macroeconomico\n",
    "                JOIN pais ON (macroeconomico.pais = pais.pais)\n",
    "                SET macroeconomico.id_pais = pais.id_pais\"\"\")"
   ]
  },
  {
   "cell_type": "code",
   "execution_count": 284,
   "metadata": {},
   "outputs": [
    {
     "data": {
      "text/plain": [
       "0"
      ]
     },
     "execution_count": 284,
     "metadata": {},
     "output_type": "execute_result"
    }
   ],
   "source": [
    "cursor.execute(\"\"\"ALTER TABLE macroeconomico\n",
    "                DROP COLUMN pais\"\"\")"
   ]
  },
  {
   "cell_type": "code",
   "execution_count": 285,
   "metadata": {},
   "outputs": [
    {
     "data": {
      "text/plain": [
       "45"
      ]
     },
     "execution_count": 285,
     "metadata": {},
     "output_type": "execute_result"
    }
   ],
   "source": [
    "cursor.execute(\"\"\"ALTER TABLE macroeconomico \n",
    "                    ADD CONSTRAINT macroeconomico_fk_anio FOREIGN KEY (id_anio) REFERENCES anio(id_anio)\"\"\")"
   ]
  },
  {
   "cell_type": "code",
   "execution_count": 286,
   "metadata": {},
   "outputs": [
    {
     "data": {
      "text/plain": [
       "45"
      ]
     },
     "execution_count": 286,
     "metadata": {},
     "output_type": "execute_result"
    }
   ],
   "source": [
    "cursor.execute(\"\"\"ALTER TABLE macroeconomico \n",
    "                    ADD CONSTRAINT macroeconomico_fk_pais FOREIGN KEY (id_pais) REFERENCES pais(id_pais)\"\"\")\n"
   ]
  },
  {
   "cell_type": "code",
   "execution_count": 287,
   "metadata": {},
   "outputs": [],
   "source": [
    "conexion.commit()"
   ]
  },
  {
   "cell_type": "code",
   "execution_count": 288,
   "metadata": {},
   "outputs": [],
   "source": [
    "conexion.close()"
   ]
  }
 ],
 "metadata": {
  "kernelspec": {
   "display_name": "Python 3",
   "language": "python",
   "name": "python3"
  },
  "language_info": {
   "codemirror_mode": {
    "name": "ipython",
    "version": 3
   },
   "file_extension": ".py",
   "mimetype": "text/x-python",
   "name": "python",
   "nbconvert_exporter": "python",
   "pygments_lexer": "ipython3",
   "version": "3.11.2"
  },
  "orig_nbformat": 4
 },
 "nbformat": 4,
 "nbformat_minor": 2
}
